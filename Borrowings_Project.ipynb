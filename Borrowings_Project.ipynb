{
  "nbformat": 4,
  "nbformat_minor": 0,
  "metadata": {
    "colab": {
      "name": "Borrowings Project",
      "provenance": [],
      "collapsed_sections": []
    },
    "kernelspec": {
      "name": "python3",
      "display_name": "Python 3"
    },
    "language_info": {
      "name": "python"
    }
  },
  "cells": [
    {
      "cell_type": "code",
      "execution_count": 1,
      "metadata": {
        "id": "ypdcXc8nP8oc"
      },
      "outputs": [],
      "source": [
        "import pandas as pd\n",
        "import numpy as np\n",
        "from scipy.sparse import lil_matrix\n",
        "\n",
        "import pandas as pd\n",
        "import numpy as np\n",
        "import matplotlib.pyplot as plt\n",
        "%matplotlib inline\n",
        "import seaborn as sns\n",
        "import re\n",
        "\n",
        "import pickle \n",
        "\n",
        "import time\n",
        "\n",
        "from sklearn.feature_extraction.text import CountVectorizer\n",
        "from sklearn.feature_extraction.text import TfidfVectorizer\n",
        "from sklearn.linear_model import LogisticRegression \n",
        "\n",
        "from sklearn.model_selection import cross_val_score\n",
        "from sklearn.model_selection import train_test_split\n",
        "from sklearn import metrics\n",
        "from sklearn.metrics import classification_report\n",
        "import warnings\n",
        "warnings.filterwarnings('ignore')\n",
        "\n",
        "from collections import Counter\n",
        "from scipy.sparse import hstack\n",
        "from sklearn.metrics import f1_score\n",
        "from sklearn.model_selection import KFold, StratifiedKFold\n",
        "from tqdm import tqdm"
      ]
    },
    {
      "cell_type": "code",
      "source": [
        "from abc import abstractmethod"
      ],
      "metadata": {
        "id": "37bpXL3iQLHI"
      },
      "execution_count": 2,
      "outputs": []
    },
    {
      "cell_type": "code",
      "source": [
        "class SpecificTypeError(TypeError):\n",
        "  def __init__(self, real_type: str, expected_type: str):\n",
        "    message = f'{expected_type} expected instead of {real_type}'\n",
        "    super().__init__(message)"
      ],
      "metadata": {
        "id": "fThD6r3iQMsn"
      },
      "execution_count": 3,
      "outputs": []
    },
    {
      "cell_type": "code",
      "source": [
        "class EmptyError(ValueError):\n",
        "  def __init__(self, type_object: str):\n",
        "    message = f'{type_object} is empty'\n",
        "    super().__init__(message)"
      ],
      "metadata": {
        "id": "1_VshflSQOzD"
      },
      "execution_count": 4,
      "outputs": []
    },
    {
      "cell_type": "code",
      "source": [
        "class Matrix:\n",
        "  __matrix = lil_matrix\n",
        "\n",
        "  def __init__(self, matrix: lil_matrix):\n",
        "    if not isinstance(matrix, lil_matrix):\n",
        "      raise SpecificTypeError(type(matrix).__name__, lil_matrix.__name__)\n",
        "    self.__matrix = matrix\n",
        "\n",
        "  def __getitem__(self, row: int) -> list:\n",
        "    return self.__matrix.getrow(row).toarray()"
      ],
      "metadata": {
        "id": "xAD1Nt0aQQNe"
      },
      "execution_count": 5,
      "outputs": []
    },
    {
      "cell_type": "code",
      "source": [
        "class Ngrammer:\n",
        "\n",
        "  @staticmethod\n",
        "  def make_ngram(tokens: list, n: int) -> list:\n",
        "    if n <= 0:\n",
        "      raise EmptyError(\"n\")\n",
        "    ngrams = []\n",
        "    for i in range(0, len(tokens) - n + 1):\n",
        "        ngrams.append(' '.join(tokens[i:i + n]))\n",
        "\n",
        "    return ngrams"
      ],
      "metadata": {
        "id": "Ew0oclfeQUaW"
      },
      "execution_count": 6,
      "outputs": []
    },
    {
      "cell_type": "code",
      "source": [
        "class AbstractNgramModel:\n",
        "  _n = -1\n",
        "  _words = []\n",
        "  _matrix = Matrix\n",
        "  _rows = []\n",
        "  _cols = []\n",
        "  _rows_id = dict()\n",
        "  _cols_id = dict()\n",
        "  _ngrams = []\n",
        "\n",
        "  @property\n",
        "  def get_matrix(self) -> Matrix:\n",
        "    return self._matrix\n",
        "\n",
        "  @property\n",
        "  def get_rows(self):\n",
        "    return self._rows\n",
        "\n",
        "  @property\n",
        "  def get_cols(self):\n",
        "    return self._cols\n",
        "\n",
        "  @property\n",
        "  def get_rows_id(self):\n",
        "    return self._rows_id\n",
        "\n",
        "  @property\n",
        "  def get_cols_id(self):\n",
        "    return self._cols_id\n",
        "\n",
        "  @property\n",
        "  def get_ngrams(self):\n",
        "    return self._ngrams\n",
        "\n",
        "  def __init__(self, n: int, words: list):\n",
        "    if not isinstance(words, list):\n",
        "      raise SpecificTypeError(type(words).__name__, list.__name__)\n",
        "    self._n = n\n",
        "    self._words = words\n",
        "\n",
        "  def _make_ngrams(self, tokens: list, n: int):\n",
        "    return Ngrammer.make_ngram(tokens, n)\n",
        "\n",
        "  @abstractmethod\n",
        "  def make_model(self):\n",
        "    pass"
      ],
      "metadata": {
        "id": "1hQ9JpCqQV9w"
      },
      "execution_count": 7,
      "outputs": []
    },
    {
      "cell_type": "code",
      "source": [
        "class NgramModelCreator:\n",
        "  __n = -1\n",
        "  __words = []\n",
        "\n",
        "  def __init__(self, n: int, words: list):\n",
        "    if not isinstance(n, int):\n",
        "      raise SpecificTypeError(type(n).__name__, int.__name__)\n",
        "    if not isinstance(words, list):\n",
        "      raise SpecificTypeError(type(words).__name__, list.__name__)\n",
        "    if n <= 0:\n",
        "      raise EmptyError(\"n\")\n",
        "    if len(words) == 0:\n",
        "      raise EmptyError(type(words).__name__)\n",
        "    self.__n = n\n",
        "    self.__words = words\n",
        "\n",
        "  @property\n",
        "  def get_model(self) -> AbstractNgramModel:\n",
        "    if self.__n == 1:\n",
        "      return UnigramModel(self.__n, self.__words)\n",
        "    else:\n",
        "      return NgramModel(self.__n, self.__words)"
      ],
      "metadata": {
        "id": "ae_OSnrKQYA2"
      },
      "execution_count": 8,
      "outputs": []
    },
    {
      "cell_type": "code",
      "source": [
        "class PerplexityMetric:\n",
        "  __words = []\n",
        "  __ngrams = []\n",
        "  __n = -1\n",
        "\n",
        "  def __init__(self, words: list, ngrams: list):\n",
        "    if not isinstance(words, list):\n",
        "      raise SpecificTypeError(type(words).__name__, list.__name__)\n",
        "    if not isinstance(ngrams, list):\n",
        "      raise SpecificTypeError(type(ngrams).__name__, list.__name__)\n",
        "    self.__words = words\n",
        "    self.__ngrams = ngrams\n",
        "    self.__n = len(self.__ngrams)\n",
        "\n",
        "  def __perplexity(self, probas) -> float:\n",
        "    p = np.exp(np.sum(probas))\n",
        "    N = len(probas)\n",
        "\n",
        "    return p**(-1/N)\n",
        "\n",
        "  def compute_perplexity(self) -> list:\n",
        "    perplexities = []\n",
        "\n",
        "    for word in self.__words:\n",
        "      if len(word) <= self.__n-1:\n",
        "        perplexities.append(np.mean(perplexities + [1]))\n",
        "        continue\n",
        "\n",
        "      prob = []\n",
        "      \n",
        "      for ngram in Ngrammer.make_ngram(word, n=self.__n):\n",
        "          phrase = ngram.split()\n",
        "\n",
        "          if ngram in self.__ngrams[-1]:\n",
        "              if self.__n == 1:\n",
        "                prob.append(np.log(self.__ngrams[0][ngram]/self.__ngrams[0][phrase[0]]))\n",
        "              else:\n",
        "                prob.append(np.log(self.__ngrams[-1][ngram]/self.__ngrams[self.__n-2][' '.join(phrase[:self.__n-1])]))\n",
        "          else:\n",
        "              prob.append(np.log(0.00001))\n",
        "      \n",
        "      perplexities.append(self.__perplexity(prob))\n",
        "\n",
        "    return perplexities"
      ],
      "metadata": {
        "id": "EflWCnwrQaRD"
      },
      "execution_count": 9,
      "outputs": []
    },
    {
      "cell_type": "code",
      "source": [
        "class NgramModel(AbstractNgramModel):\n",
        "\n",
        "  def __init__(self, n: int, words: list):\n",
        "    AbstractNgramModel.__init__(self, n, words)\n",
        "\n",
        "  def make_model(self):\n",
        "    self._ngrams = [Counter() for i in range(self._n)]\n",
        "\n",
        "    self._ngrams = self.__generate_ngrams_list(self._ngrams, self._n)\n",
        "\n",
        "    self._rows = list(self._ngrams[-2])\n",
        "    self._rows_id = {gram: i for i, gram in enumerate(self._rows)}\n",
        "    self._cols = list(self._ngrams[0])\n",
        "    self._cols_id = {word: i for i, word in enumerate(self._cols)}\n",
        "\n",
        "    self._matrix = self.__fill_matrix(self._n)\n",
        "\n",
        "  def __generate_ngrams_list(self, ngrams: list, n: int) -> list:\n",
        "    for word in self._words:\n",
        "      ngrams[0].update(word)\n",
        "      for i in range(2, n+1):\n",
        "        ngrams[i-1].update(self._make_ngrams(word, n=i))\n",
        "\n",
        "    return ngrams\n",
        "\n",
        "  def __fill_matrix(self, n: int) -> Matrix:\n",
        "    all_matrix = lil_matrix((len(self._ngrams[-2]), \n",
        "                         len(self._ngrams[0])),)\n",
        "\n",
        "    for ngram in self._ngrams[-1]:\n",
        "\n",
        "        phrase = ngram.split()\n",
        "\n",
        "        #print(phrase)\n",
        "\n",
        "        all_matrix[self._rows_id[' '.join(phrase[:n-1])], self._cols_id[phrase[-1]]] =  (self._ngrams[n-1][ngram]/\n",
        "                                                                        self._ngrams[n-2][' '.join(phrase[:n-1])] + 1)\n",
        "    \n",
        "    return Matrix(all_matrix)"
      ],
      "metadata": {
        "id": "DU0KWV4yQc2v"
      },
      "execution_count": 10,
      "outputs": []
    },
    {
      "cell_type": "code",
      "source": [
        "class AbstractPreprocessingBuilder:\n",
        "\n",
        "  _n = -1\n",
        "  _result = None\n",
        "\n",
        "  @property\n",
        "  def result(self):\n",
        "    return self._result\n",
        "\n",
        "  @property\n",
        "  def words(self):\n",
        "    pass\n",
        "\n",
        "  @words.setter\n",
        "  def words(self, words):\n",
        "    pass\n",
        "\n",
        "  @property\n",
        "  def n(self) -> int:\n",
        "    return self._n\n",
        "\n",
        "  @n.setter\n",
        "  def n(self, value: int):\n",
        "    if not isinstance(value, int):\n",
        "      raise SpecificTypeError(type(value).__name__, int.__name__)\n",
        "    self._n = value\n",
        "\n",
        "  def __init__(self):\n",
        "    self._result = None\n",
        "\n",
        "  @abstractmethod\n",
        "  def build(self):\n",
        "    pass"
      ],
      "metadata": {
        "id": "bsqTFW3nRi2m"
      },
      "execution_count": 11,
      "outputs": []
    },
    {
      "cell_type": "code",
      "source": [
        "class SeriePreprocessingBuilder(AbstractPreprocessingBuilder):\n",
        "\n",
        "  __serie = None\n",
        "\n",
        "  @property\n",
        "  def words(self):\n",
        "    return self.__serie\n",
        "\n",
        "  @words.setter\n",
        "  def words(self, words: pd.Series):\n",
        "    if not isinstance(words, pd.Series):\n",
        "      SpecificTypeError(type(words).__name__, pd.Series.__name__)\n",
        "    self.__serie = words.copy()\n",
        "\n",
        "  def build(self):\n",
        "    self._result = self.__serie.apply(self.__convert_to_list()).apply(self.__replace_spaces()).apply(self.__add_pseudo_words())\n",
        "  \n",
        "  def __convert_to_list(self):\n",
        "    return lambda x: [x] if not isinstance(x, list) else x\n",
        "  \n",
        "  def __replace_spaces(self):\n",
        "    return lambda x: ['#' if letter in ['', ' '] else letter for letter in x]\n",
        "\n",
        "  def __add_pseudo_words(self):\n",
        "    return lambda x: ['<start>'] * (self._n - 1) + x + ['<end>']"
      ],
      "metadata": {
        "id": "DsQybpFcRyLk"
      },
      "execution_count": 12,
      "outputs": []
    },
    {
      "cell_type": "code",
      "source": [
        "class PreprocessingDirector:\n",
        "\n",
        "  __builder = AbstractPreprocessingBuilder\n",
        "\n",
        "  def __init__(self):\n",
        "    self.__builder = None\n",
        "\n",
        "  @property\n",
        "  def builder(self) -> AbstractPreprocessingBuilder:\n",
        "    return self.__builder\n",
        "  \n",
        "  @builder.setter\n",
        "  def builder(self, builder: AbstractPreprocessingBuilder):\n",
        "    self.__builder = builder\n",
        "\n",
        "  def build(self, words: list, n: int):\n",
        "    self.__builder.words = words\n",
        "    self.__builder.n = n\n",
        "    self.__builder.build()\n",
        "    return self"
      ],
      "metadata": {
        "id": "p4LUdWFTRz78"
      },
      "execution_count": 13,
      "outputs": []
    },
    {
      "cell_type": "code",
      "source": [
        "class FilterDataFrame:\n",
        "\n",
        "  __condition = \"\"\n",
        "  __serie = None\n",
        "\n",
        "  def __init__(self, condition: str, serie: pd.Series):\n",
        "    if not isinstance(condition, str):\n",
        "      raise SpecificTypeError(type(condition).__name__, str.__name__)\n",
        "    if not isinstance(serie, pd.Series):\n",
        "      raise SpecificTypeError(type(serie).__name__, pd.Series.__name__)\n",
        "    self.__condition = condition\n",
        "    self.__serie = serie\n",
        "\n",
        "  def filter_result(self) -> pd.Series:\n",
        "      conditions = {\n",
        "        'EQUAL_1': self.__serie == 1,\n",
        "        'EQUAL_0': self.__serie == 0,\n",
        "        'IS_NULL': self.__serie.isnull(),\n",
        "        'NOT_IS_NULL': ~self.__serie.isnull()\n",
        "        }\n",
        "\n",
        "      return conditions[self.__condition]"
      ],
      "metadata": {
        "id": "rPlorVGER2OD"
      },
      "execution_count": 14,
      "outputs": []
    },
    {
      "cell_type": "code",
      "source": [
        "class DfPerplexityCreator:\n",
        "    __df = pd.DataFrame\n",
        "\n",
        "    def __init__(self, origin_df: pd.DataFrame, lang_column: str, language: str):\n",
        "      self.__df = origin_df[origin_df[lang_column] == language]\n",
        "\n",
        "    def get_perplexity_column(self, n: int, words_column: str, \n",
        "                              target_column: str, condition: str, \n",
        "                              director: PreprocessingDirector) -> pd.Series:\n",
        "      mask = FilterDataFrame(condition, self.__df[target_column]).filter_result()\n",
        "      words_serie = director.build(self.__df[mask][words_column].str.replace(' ', '#').str.split('-'), n).builder.result\n",
        "\n",
        "      all_words = director.build(self.__df[words_column].str.replace(' ', '#').str.split('-'), n).builder.result\n",
        "\n",
        "      model = NgramModelCreator(n, list(all_words)).get_model\n",
        "      model.make_model()\n",
        "      metric = PerplexityMetric(list(words_serie), model.get_ngrams)\n",
        "      words_serie = pd.Series(metric.compute_perplexity(), index=words_serie.index)\n",
        "      return words_serie"
      ],
      "metadata": {
        "id": "XOUf_DuER3sN"
      },
      "execution_count": 15,
      "outputs": []
    },
    {
      "cell_type": "code",
      "source": [
        "def make_df(df, conditions, words_column, director):\n",
        "  perps_df = df[['glottocode', 'lemma', 'ipa', 'bor']]\n",
        "  for i in range(2, 5):\n",
        "    series = pd.Series()\n",
        "    for language in perps_df['glottocode'].unique():\n",
        "      print(language)\n",
        "      df_creator = DfPerplexityCreator(perps_df, 'glottocode', language)\n",
        "      series = series.append(df_creator.get_perplexity_column(i, words_column, 'bor', conditions[0], director))\n",
        "      series = series.append(df_creator.get_perplexity_column(i, words_column, 'bor', conditions[1], director))\n",
        "    perps_df[f'{i}_gram'] = series\n",
        "\n",
        "  return perps_df"
      ],
      "metadata": {
        "id": "8Cdm7erdR8lO"
      },
      "execution_count": 16,
      "outputs": []
    },
    {
      "cell_type": "code",
      "source": [
        "df = pd.read_csv('https://raw.githubusercontent.com/phon-dicts-project/comparative_andic_dictionary_database/master/andic_dicts.csv')"
      ],
      "metadata": {
        "id": "pN7sWuNwQfxJ"
      },
      "execution_count": 17,
      "outputs": []
    },
    {
      "cell_type": "markdown",
      "source": [
        "### EDA"
      ],
      "metadata": {
        "id": "0-8yOxBpbgz4"
      }
    },
    {
      "cell_type": "markdown",
      "source": [
        "#### Анализ данных"
      ],
      "metadata": {
        "id": "esXce_Btbl38"
      }
    },
    {
      "cell_type": "code",
      "source": [
        "df.head(3)"
      ],
      "metadata": {
        "colab": {
          "base_uri": "https://localhost:8080/",
          "height": 497
        },
        "id": "q9fnGW3oTa2C",
        "outputId": "dac7bbe8-7938-4fcc-edb4-f680f2ffd7b1"
      },
      "execution_count": 18,
      "outputs": [
        {
          "output_type": "execute_result",
          "data": {
            "text/plain": [
              "       lang  id_word  id_meaning  id           lemma                  ipa  \\\n",
              "0  akhv1239        1           1   1       аба'далIи     a-b-'a-d-a-tɬː-i   \n",
              "1       NaN        2           1   2       а/б/а'жве          a-b-'a-ʒʷ-e   \n",
              "2       NaN        3           1   3  а/б/ажу'рулъIа  a-b-a-ʒ-'u-r-u-tɬ-a   \n",
              "\n",
              "                                          morphology       annotator   pos  \\\n",
              "0                                                NaN  Arseniy Averin   adj   \n",
              "1                                           (-ролIи)  Arseniy Averin  noun   \n",
              "2  (абажвари', аба-жу'ва, абажва', абажве̄'гье, а...  Arseniy Averin  verb   \n",
              "\n",
              "   concepticon  ... glottocode                    reference comments source  \\\n",
              "0  everlasting  ...   akhv1239  Magomedova, Abdulayeva 2007      NaN    NaN   \n",
              "1  sociability  ...   akhv1239  Magomedova, Abdulayeva 2007      NaN    NaN   \n",
              "2          NaN  ...   akhv1239  Magomedova, Abdulayeva 2007      NaN    NaN   \n",
              "\n",
              "   bor  borrowing_source_language  borrowing_source_transcription  \\\n",
              "0  1.0                       arab                           abadi   \n",
              "1  NaN                        NaN                             NaN   \n",
              "2  NaN                        NaN                             NaN   \n",
              "\n",
              "  borrowing_modified borrowing_annotator  language  \n",
              "0                1.0   Dasha Chistyakova   Akhvakh  \n",
              "1                1.0                 NaN   Akhvakh  \n",
              "2                NaN                 NaN   Akhvakh  \n",
              "\n",
              "[3 rows x 22 columns]"
            ],
            "text/html": [
              "\n",
              "  <div id=\"df-fedf303e-113b-45e9-86de-87a7e89c1364\">\n",
              "    <div class=\"colab-df-container\">\n",
              "      <div>\n",
              "<style scoped>\n",
              "    .dataframe tbody tr th:only-of-type {\n",
              "        vertical-align: middle;\n",
              "    }\n",
              "\n",
              "    .dataframe tbody tr th {\n",
              "        vertical-align: top;\n",
              "    }\n",
              "\n",
              "    .dataframe thead th {\n",
              "        text-align: right;\n",
              "    }\n",
              "</style>\n",
              "<table border=\"1\" class=\"dataframe\">\n",
              "  <thead>\n",
              "    <tr style=\"text-align: right;\">\n",
              "      <th></th>\n",
              "      <th>lang</th>\n",
              "      <th>id_word</th>\n",
              "      <th>id_meaning</th>\n",
              "      <th>id</th>\n",
              "      <th>lemma</th>\n",
              "      <th>ipa</th>\n",
              "      <th>morphology</th>\n",
              "      <th>annotator</th>\n",
              "      <th>pos</th>\n",
              "      <th>concepticon</th>\n",
              "      <th>...</th>\n",
              "      <th>glottocode</th>\n",
              "      <th>reference</th>\n",
              "      <th>comments</th>\n",
              "      <th>source</th>\n",
              "      <th>bor</th>\n",
              "      <th>borrowing_source_language</th>\n",
              "      <th>borrowing_source_transcription</th>\n",
              "      <th>borrowing_modified</th>\n",
              "      <th>borrowing_annotator</th>\n",
              "      <th>language</th>\n",
              "    </tr>\n",
              "  </thead>\n",
              "  <tbody>\n",
              "    <tr>\n",
              "      <th>0</th>\n",
              "      <td>akhv1239</td>\n",
              "      <td>1</td>\n",
              "      <td>1</td>\n",
              "      <td>1</td>\n",
              "      <td>аба'далIи</td>\n",
              "      <td>a-b-'a-d-a-tɬː-i</td>\n",
              "      <td>NaN</td>\n",
              "      <td>Arseniy Averin</td>\n",
              "      <td>adj</td>\n",
              "      <td>everlasting</td>\n",
              "      <td>...</td>\n",
              "      <td>akhv1239</td>\n",
              "      <td>Magomedova, Abdulayeva 2007</td>\n",
              "      <td>NaN</td>\n",
              "      <td>NaN</td>\n",
              "      <td>1.0</td>\n",
              "      <td>arab</td>\n",
              "      <td>abadi</td>\n",
              "      <td>1.0</td>\n",
              "      <td>Dasha Chistyakova</td>\n",
              "      <td>Akhvakh</td>\n",
              "    </tr>\n",
              "    <tr>\n",
              "      <th>1</th>\n",
              "      <td>NaN</td>\n",
              "      <td>2</td>\n",
              "      <td>1</td>\n",
              "      <td>2</td>\n",
              "      <td>а/б/а'жве</td>\n",
              "      <td>a-b-'a-ʒʷ-e</td>\n",
              "      <td>(-ролIи)</td>\n",
              "      <td>Arseniy Averin</td>\n",
              "      <td>noun</td>\n",
              "      <td>sociability</td>\n",
              "      <td>...</td>\n",
              "      <td>akhv1239</td>\n",
              "      <td>Magomedova, Abdulayeva 2007</td>\n",
              "      <td>NaN</td>\n",
              "      <td>NaN</td>\n",
              "      <td>NaN</td>\n",
              "      <td>NaN</td>\n",
              "      <td>NaN</td>\n",
              "      <td>1.0</td>\n",
              "      <td>NaN</td>\n",
              "      <td>Akhvakh</td>\n",
              "    </tr>\n",
              "    <tr>\n",
              "      <th>2</th>\n",
              "      <td>NaN</td>\n",
              "      <td>3</td>\n",
              "      <td>1</td>\n",
              "      <td>3</td>\n",
              "      <td>а/б/ажу'рулъIа</td>\n",
              "      <td>a-b-a-ʒ-'u-r-u-tɬ-a</td>\n",
              "      <td>(абажвари', аба-жу'ва, абажва', абажве̄'гье, а...</td>\n",
              "      <td>Arseniy Averin</td>\n",
              "      <td>verb</td>\n",
              "      <td>NaN</td>\n",
              "      <td>...</td>\n",
              "      <td>akhv1239</td>\n",
              "      <td>Magomedova, Abdulayeva 2007</td>\n",
              "      <td>NaN</td>\n",
              "      <td>NaN</td>\n",
              "      <td>NaN</td>\n",
              "      <td>NaN</td>\n",
              "      <td>NaN</td>\n",
              "      <td>NaN</td>\n",
              "      <td>NaN</td>\n",
              "      <td>Akhvakh</td>\n",
              "    </tr>\n",
              "  </tbody>\n",
              "</table>\n",
              "<p>3 rows × 22 columns</p>\n",
              "</div>\n",
              "      <button class=\"colab-df-convert\" onclick=\"convertToInteractive('df-fedf303e-113b-45e9-86de-87a7e89c1364')\"\n",
              "              title=\"Convert this dataframe to an interactive table.\"\n",
              "              style=\"display:none;\">\n",
              "        \n",
              "  <svg xmlns=\"http://www.w3.org/2000/svg\" height=\"24px\"viewBox=\"0 0 24 24\"\n",
              "       width=\"24px\">\n",
              "    <path d=\"M0 0h24v24H0V0z\" fill=\"none\"/>\n",
              "    <path d=\"M18.56 5.44l.94 2.06.94-2.06 2.06-.94-2.06-.94-.94-2.06-.94 2.06-2.06.94zm-11 1L8.5 8.5l.94-2.06 2.06-.94-2.06-.94L8.5 2.5l-.94 2.06-2.06.94zm10 10l.94 2.06.94-2.06 2.06-.94-2.06-.94-.94-2.06-.94 2.06-2.06.94z\"/><path d=\"M17.41 7.96l-1.37-1.37c-.4-.4-.92-.59-1.43-.59-.52 0-1.04.2-1.43.59L10.3 9.45l-7.72 7.72c-.78.78-.78 2.05 0 2.83L4 21.41c.39.39.9.59 1.41.59.51 0 1.02-.2 1.41-.59l7.78-7.78 2.81-2.81c.8-.78.8-2.07 0-2.86zM5.41 20L4 18.59l7.72-7.72 1.47 1.35L5.41 20z\"/>\n",
              "  </svg>\n",
              "      </button>\n",
              "      \n",
              "  <style>\n",
              "    .colab-df-container {\n",
              "      display:flex;\n",
              "      flex-wrap:wrap;\n",
              "      gap: 12px;\n",
              "    }\n",
              "\n",
              "    .colab-df-convert {\n",
              "      background-color: #E8F0FE;\n",
              "      border: none;\n",
              "      border-radius: 50%;\n",
              "      cursor: pointer;\n",
              "      display: none;\n",
              "      fill: #1967D2;\n",
              "      height: 32px;\n",
              "      padding: 0 0 0 0;\n",
              "      width: 32px;\n",
              "    }\n",
              "\n",
              "    .colab-df-convert:hover {\n",
              "      background-color: #E2EBFA;\n",
              "      box-shadow: 0px 1px 2px rgba(60, 64, 67, 0.3), 0px 1px 3px 1px rgba(60, 64, 67, 0.15);\n",
              "      fill: #174EA6;\n",
              "    }\n",
              "\n",
              "    [theme=dark] .colab-df-convert {\n",
              "      background-color: #3B4455;\n",
              "      fill: #D2E3FC;\n",
              "    }\n",
              "\n",
              "    [theme=dark] .colab-df-convert:hover {\n",
              "      background-color: #434B5C;\n",
              "      box-shadow: 0px 1px 3px 1px rgba(0, 0, 0, 0.15);\n",
              "      filter: drop-shadow(0px 1px 2px rgba(0, 0, 0, 0.3));\n",
              "      fill: #FFFFFF;\n",
              "    }\n",
              "  </style>\n",
              "\n",
              "      <script>\n",
              "        const buttonEl =\n",
              "          document.querySelector('#df-fedf303e-113b-45e9-86de-87a7e89c1364 button.colab-df-convert');\n",
              "        buttonEl.style.display =\n",
              "          google.colab.kernel.accessAllowed ? 'block' : 'none';\n",
              "\n",
              "        async function convertToInteractive(key) {\n",
              "          const element = document.querySelector('#df-fedf303e-113b-45e9-86de-87a7e89c1364');\n",
              "          const dataTable =\n",
              "            await google.colab.kernel.invokeFunction('convertToInteractive',\n",
              "                                                     [key], {});\n",
              "          if (!dataTable) return;\n",
              "\n",
              "          const docLinkHtml = 'Like what you see? Visit the ' +\n",
              "            '<a target=\"_blank\" href=https://colab.research.google.com/notebooks/data_table.ipynb>data table notebook</a>'\n",
              "            + ' to learn more about interactive tables.';\n",
              "          element.innerHTML = '';\n",
              "          dataTable['output_type'] = 'display_data';\n",
              "          await google.colab.output.renderOutput(dataTable, element);\n",
              "          const docLink = document.createElement('div');\n",
              "          docLink.innerHTML = docLinkHtml;\n",
              "          element.appendChild(docLink);\n",
              "        }\n",
              "      </script>\n",
              "    </div>\n",
              "  </div>\n",
              "  "
            ]
          },
          "metadata": {},
          "execution_count": 18
        }
      ]
    },
    {
      "cell_type": "code",
      "source": [
        "df.info()"
      ],
      "metadata": {
        "colab": {
          "base_uri": "https://localhost:8080/"
        },
        "id": "YXNrswqfTehs",
        "outputId": "4721b043-d460-40c9-97fa-f3860c63ddf4"
      },
      "execution_count": 19,
      "outputs": [
        {
          "output_type": "stream",
          "name": "stdout",
          "text": [
            "<class 'pandas.core.frame.DataFrame'>\n",
            "RangeIndex: 91076 entries, 0 to 91075\n",
            "Data columns (total 22 columns):\n",
            " #   Column                          Non-Null Count  Dtype  \n",
            "---  ------                          --------------  -----  \n",
            " 0   lang                            7 non-null      object \n",
            " 1   id_word                         91076 non-null  int64  \n",
            " 2   id_meaning                      91076 non-null  int64  \n",
            " 3   id                              91076 non-null  int64  \n",
            " 4   lemma                           91076 non-null  object \n",
            " 5   ipa                             90771 non-null  object \n",
            " 6   morphology                      51615 non-null  object \n",
            " 7   annotator                       89230 non-null  object \n",
            " 8   pos                             39372 non-null  object \n",
            " 9   concepticon                     584 non-null    object \n",
            " 10  meaning_ru                      89541 non-null  object \n",
            " 11  definition                      84908 non-null  object \n",
            " 12  glottocode                      91076 non-null  object \n",
            " 13  reference                       91076 non-null  object \n",
            " 14  comments                        0 non-null      float64\n",
            " 15  source                          0 non-null      float64\n",
            " 16  bor                             12565 non-null  float64\n",
            " 17  borrowing_source_language       12423 non-null  object \n",
            " 18  borrowing_source_transcription  8028 non-null   object \n",
            " 19  borrowing_modified              3371 non-null   float64\n",
            " 20  borrowing_annotator             12423 non-null  object \n",
            " 21  language                        91076 non-null  object \n",
            "dtypes: float64(4), int64(3), object(15)\n",
            "memory usage: 15.3+ MB\n"
          ]
        }
      ]
    },
    {
      "cell_type": "code",
      "source": [
        "df = df.drop_duplicates(['ipa', 'bor'])"
      ],
      "metadata": {
        "id": "NQNQFZgKK0ui"
      },
      "execution_count": 20,
      "outputs": []
    },
    {
      "cell_type": "code",
      "source": [
        "df = df[~df['ipa'].isnull()]"
      ],
      "metadata": {
        "id": "ysfzo7BeVA20"
      },
      "execution_count": 21,
      "outputs": []
    },
    {
      "cell_type": "code",
      "source": [
        "df['bor'].value_counts()"
      ],
      "metadata": {
        "colab": {
          "base_uri": "https://localhost:8080/"
        },
        "id": "-RZkB15eTypl",
        "outputId": "d018c0ea-7787-4553-d0aa-596554ecb84a"
      },
      "execution_count": 22,
      "outputs": [
        {
          "output_type": "execute_result",
          "data": {
            "text/plain": [
              "1.0    7402\n",
              "Name: bor, dtype: int64"
            ]
          },
          "metadata": {},
          "execution_count": 22
        }
      ]
    },
    {
      "cell_type": "code",
      "source": [
        "df['bor'] = df['bor'].fillna(0)"
      ],
      "metadata": {
        "id": "OR9kFDxTT8Ma"
      },
      "execution_count": 23,
      "outputs": []
    },
    {
      "cell_type": "code",
      "source": [
        "df['bor'].value_counts()"
      ],
      "metadata": {
        "colab": {
          "base_uri": "https://localhost:8080/"
        },
        "id": "DlfcJWEDUDiI",
        "outputId": "3e441110-5390-4786-c39d-3de94d3b9624"
      },
      "execution_count": 24,
      "outputs": [
        {
          "output_type": "execute_result",
          "data": {
            "text/plain": [
              "0.0    47358\n",
              "1.0     7402\n",
              "Name: bor, dtype: int64"
            ]
          },
          "metadata": {},
          "execution_count": 24
        }
      ]
    },
    {
      "cell_type": "code",
      "source": [
        "df.groupby(['glottocode', 'bor'])['ipa'].count()"
      ],
      "metadata": {
        "colab": {
          "base_uri": "https://localhost:8080/"
        },
        "id": "Xg8lwzxJUKOx",
        "outputId": "94b75935-cfa7-4de2-b2f6-59b2269ab5c5"
      },
      "execution_count": 25,
      "outputs": [
        {
          "output_type": "execute_result",
          "data": {
            "text/plain": [
              "glottocode  bor\n",
              "akhv1239    0.0    6912\n",
              "            1.0     928\n",
              "andi1255    0.0    5159\n",
              "            1.0     681\n",
              "bagv1239    0.0    6307\n",
              "            1.0    1266\n",
              "botl1242    0.0    9364\n",
              "            1.0    2514\n",
              "cham1309    0.0    5992\n",
              "            1.0     359\n",
              "ghod1238    0.0    3529\n",
              "            1.0     797\n",
              "kara1474    0.0    4056\n",
              "            1.0     393\n",
              "tind1238    0.0    5845\n",
              "            1.0     462\n",
              "toki1238    0.0     194\n",
              "            1.0       2\n",
              "Name: ipa, dtype: int64"
            ]
          },
          "metadata": {},
          "execution_count": 25
        }
      ]
    },
    {
      "cell_type": "code",
      "source": [
        "df = df[~df['glottocode'].str.contains('toki')]"
      ],
      "metadata": {
        "id": "gp-S0oXUR_s6"
      },
      "execution_count": 26,
      "outputs": []
    },
    {
      "cell_type": "markdown",
      "source": [
        "#### Baseline"
      ],
      "metadata": {
        "id": "3-NlrpRObp1g"
      }
    },
    {
      "cell_type": "code",
      "source": [
        "report = pd.DataFrame(columns=['language', 'macro f1', 'model'])"
      ],
      "metadata": {
        "id": "iVB1SDbrWkOR"
      },
      "execution_count": 27,
      "outputs": []
    },
    {
      "cell_type": "code",
      "source": [
        "models = []\n",
        "\n",
        "for language in df['glottocode'].unique():\n",
        "  language_df = df[df['glottocode'] == language]\n",
        "\n",
        "  vectorizer = TfidfVectorizer(ngram_range=(2, 4), token_pattern=r'\\'?\\w+')\n",
        "\n",
        "  X = language_df['ipa'] \n",
        "  y = language_df[['bor']]\n",
        "\n",
        "  X_train, X_test, y_train, y_test = train_test_split(X, y, test_size=0.2, random_state=42)\n",
        "\n",
        "  X_train = vectorizer.fit_transform(X_train)\n",
        "\n",
        "  clf = LogisticRegression(random_state=0).fit(X_train, y_train)\n",
        "\n",
        "  preds = clf.predict(vectorizer.transform(X_test))\n",
        "\n",
        "  models.append(clf)\n",
        "\n",
        "  report = report.append(pd.DataFrame({'language': [language], 'macro f1': [f1_score(y_test, preds, average='macro')], 'model': ['baseline']}))\n",
        "\n",
        "  print(language)\n",
        "  print(classification_report(y_test, preds, zero_division=0, ))"
      ],
      "metadata": {
        "colab": {
          "base_uri": "https://localhost:8080/"
        },
        "id": "nry3GkNfVQuu",
        "outputId": "387006d5-96dc-45cf-bc61-cd915f3ef374"
      },
      "execution_count": 28,
      "outputs": [
        {
          "output_type": "stream",
          "name": "stdout",
          "text": [
            "akhv1239\n",
            "              precision    recall  f1-score   support\n",
            "\n",
            "         0.0       0.90      1.00      0.95      1391\n",
            "         1.0       0.89      0.14      0.24       177\n",
            "\n",
            "    accuracy                           0.90      1568\n",
            "   macro avg       0.90      0.57      0.60      1568\n",
            "weighted avg       0.90      0.90      0.87      1568\n",
            "\n",
            "andi1255\n",
            "              precision    recall  f1-score   support\n",
            "\n",
            "         0.0       0.90      0.99      0.94      1035\n",
            "         1.0       0.69      0.14      0.23       133\n",
            "\n",
            "    accuracy                           0.89      1168\n",
            "   macro avg       0.80      0.56      0.58      1168\n",
            "weighted avg       0.88      0.89      0.86      1168\n",
            "\n",
            "bagv1239\n",
            "              precision    recall  f1-score   support\n",
            "\n",
            "         0.0       0.86      0.99      0.92      1258\n",
            "         1.0       0.77      0.22      0.34       257\n",
            "\n",
            "    accuracy                           0.86      1515\n",
            "   macro avg       0.81      0.60      0.63      1515\n",
            "weighted avg       0.84      0.86      0.82      1515\n",
            "\n",
            "botl1242\n",
            "              precision    recall  f1-score   support\n",
            "\n",
            "         0.0       0.88      0.98      0.93      1878\n",
            "         1.0       0.87      0.50      0.64       498\n",
            "\n",
            "    accuracy                           0.88      2376\n",
            "   macro avg       0.88      0.74      0.78      2376\n",
            "weighted avg       0.88      0.88      0.87      2376\n",
            "\n",
            "cham1309\n",
            "              precision    recall  f1-score   support\n",
            "\n",
            "         0.0       0.94      1.00      0.97      1190\n",
            "         1.0       1.00      0.01      0.02        81\n",
            "\n",
            "    accuracy                           0.94      1271\n",
            "   macro avg       0.97      0.51      0.50      1271\n",
            "weighted avg       0.94      0.94      0.91      1271\n",
            "\n",
            "ghod1238\n",
            "              precision    recall  f1-score   support\n",
            "\n",
            "         0.0       0.87      1.00      0.93       726\n",
            "         1.0       0.91      0.23      0.37       140\n",
            "\n",
            "    accuracy                           0.87       866\n",
            "   macro avg       0.89      0.61      0.65       866\n",
            "weighted avg       0.88      0.87      0.84       866\n",
            "\n",
            "kara1474\n",
            "              precision    recall  f1-score   support\n",
            "\n",
            "         0.0       0.92      1.00      0.96       822\n",
            "         1.0       1.00      0.01      0.03        68\n",
            "\n",
            "    accuracy                           0.92       890\n",
            "   macro avg       0.96      0.51      0.49       890\n",
            "weighted avg       0.93      0.92      0.89       890\n",
            "\n",
            "tind1238\n",
            "              precision    recall  f1-score   support\n",
            "\n",
            "         0.0       0.94      1.00      0.97      1177\n",
            "         1.0       1.00      0.06      0.11        85\n",
            "\n",
            "    accuracy                           0.94      1262\n",
            "   macro avg       0.97      0.53      0.54      1262\n",
            "weighted avg       0.94      0.94      0.91      1262\n",
            "\n"
          ]
        }
      ]
    },
    {
      "cell_type": "markdown",
      "source": [
        "### Model"
      ],
      "metadata": {
        "id": "iSm05v-4bxgn"
      }
    },
    {
      "cell_type": "markdown",
      "source": [
        "#### Подбор гиперпараметров векторайзера"
      ],
      "metadata": {
        "id": "FrRUSaoFcGdq"
      }
    },
    {
      "cell_type": "code",
      "source": [
        "def fit_language_model(X_train, increase_bor_rate, decrease_bor_rate, n,):\n",
        "  non_bor_words = X_train[X_train['bor'] == 0]['ipa'].str.split('-')\n",
        "  bor_words = X_train[X_train['bor'] == 1]['ipa'].str.split('-')\n",
        "  director = PreprocessingDirector()\n",
        "  director.builder = SeriePreprocessingBuilder()\n",
        "  builded_words = director.build(non_bor_words, n).builder.result\n",
        "  bor_words = director.build(bor_words, n).builder.result\n",
        "  model = NgramModelCreator(n, list(builded_words)).get_model\n",
        "  model.make_model()\n",
        "\n",
        "  all_words = X_train['ipa'].str.split('-')\n",
        "  all_words = director.build(all_words, n).builder.result\n",
        "  all_ngrams = [Ngrammer.make_ngram(word, n) for word in all_words]\n",
        "\n",
        "  is_bors = []\n",
        "\n",
        "  for word in all_ngrams:\n",
        "    bor_rate = 0\n",
        "    for ngram in word:\n",
        "      if model.get_ngrams[n - 1][ngram] <= 2:\n",
        "        bor_rate += increase_bor_rate\n",
        "      else:\n",
        "        bor_rate -= decrease_bor_rate\n",
        "    is_bors.append(bor_rate / len(word))\n",
        "\n",
        "  return is_bors"
      ],
      "metadata": {
        "id": "U8bj773VNyGq"
      },
      "execution_count": 29,
      "outputs": []
    },
    {
      "cell_type": "code",
      "source": [
        "def compare_models(features, clfs, vectorizers, languages_model_params=None):\n",
        "  comparison_table = {glottocode: [] for glottocode in features['glottocode'].unique()}\n",
        "\n",
        "  for language in tqdm(features['glottocode'].unique()):\n",
        "    language_features = features[features['glottocode'] == language]\n",
        "    X = language_features.copy()\n",
        "    y = language_features[['bor']]\n",
        "    kf = StratifiedKFold(n_splits=5)\n",
        "\n",
        "    for i in range(len(clfs)):\n",
        "      scores = []\n",
        "      for train_index, test_index in kf.split(X, y,):\n",
        "        clf = clfs[i]\n",
        "        vectorizer = vectorizers[i]\n",
        "        X_train, X_test = X.iloc[train_index], X.iloc[test_index]\n",
        "        y_train, y_test = y.iloc[train_index], y.iloc[test_index]\n",
        "\n",
        "        X_train_vectorized = vectorizer.fit_transform(X_train['ipa'])\n",
        "\n",
        "        if languages_model_params:\n",
        "           X_train_vectorized = hstack((X_train_vectorized, np.asarray(fit_language_model(X_train, **languages_model_params[i])).reshape(-1, 1)))\n",
        "\n",
        "        clf.fit(X_train_vectorized, y_train)\n",
        "\n",
        "        X_test_vectorized = vectorizer.transform(X_test['ipa'])\n",
        "        if languages_model_params:\n",
        "          X_test_vectorized = hstack((X_test_vectorized, np.asarray(fit_language_model(X_test, **languages_model_params[i])).reshape(-1, 1)))\n",
        "\n",
        "        preds = clf.predict(X_test_vectorized)\n",
        "\n",
        "        scores.append(f1_score(y_test, preds, average='macro'))\n",
        "      comparison_table[language].append(np.mean(scores))\n",
        "\n",
        "  return comparison_table"
      ],
      "metadata": {
        "id": "gw0bRhyCcKpi"
      },
      "execution_count": 30,
      "outputs": []
    },
    {
      "cell_type": "code",
      "source": [
        "compare_models(\n",
        "    df, \n",
        "    [LogisticRegression(random_state=0), LogisticRegression(random_state=0)],\n",
        "    [TfidfVectorizer(ngram_range=(2, 4), token_pattern=r'\\'?\\w+'), CountVectorizer(token_pattern=r'\\'?\\w+', ngram_range=(2, 4))]\n",
        ")"
      ],
      "metadata": {
        "colab": {
          "base_uri": "https://localhost:8080/"
        },
        "id": "-3i4gQVceTBP",
        "outputId": "4dfd2202-d957-4998-d111-c1df866e6f9a"
      },
      "execution_count": 31,
      "outputs": [
        {
          "output_type": "stream",
          "name": "stderr",
          "text": [
            "100%|██████████| 8/8 [00:58<00:00,  7.32s/it]\n"
          ]
        },
        {
          "output_type": "execute_result",
          "data": {
            "text/plain": [
              "{'akhv1239': [0.5292926153112136, 0.5974775039440132],\n",
              " 'andi1255': [0.5663669615380714, 0.6113874017720122],\n",
              " 'bagv1239': [0.5715482333674382, 0.6699905162513298],\n",
              " 'botl1242': [0.6820124949727926, 0.7220885829566304],\n",
              " 'cham1309': [0.4881946970843778, 0.5153601993711583],\n",
              " 'ghod1238': [0.5568128768783078, 0.6563100993071137],\n",
              " 'kara1474': [0.48197821357474246, 0.5856164882441657],\n",
              " 'tind1238': [0.4980892205663913, 0.5636702101529639]}"
            ]
          },
          "metadata": {},
          "execution_count": 31
        }
      ]
    },
    {
      "cell_type": "code",
      "source": [
        "#params = {'min_df':0.0004, 'max_df':100}\n",
        "#CountVectorizer(token_pattern=r'\\'?\\w+', **kwargs)\n",
        "def hyperparams_selection(features, params):\n",
        "  comparison = []\n",
        "  compared_params = []\n",
        "\n",
        "  for param, values in params.items():\n",
        "    for value in values:\n",
        "      args = {param: value}\n",
        "      vectorizers = []\n",
        "      vectorizer_params = []\n",
        "      vectorizers.append(CountVectorizer(token_pattern=r'\\'?\\w+', ngram_range=(2, 4), **args))\n",
        "      vectorizer_params.append(args)\n",
        "      try:\n",
        "        comparison.append(compare_models(features, [LogisticRegression(random_state=0)]*len(vectorizers), vectorizers))\n",
        "      except:\n",
        "        comparison.append({'error': [0]})\n",
        "      compared_params.append(vectorizer_params)\n",
        "  return comparison, compared_params"
      ],
      "metadata": {
        "id": "mto_qKHebV4u"
      },
      "execution_count": 32,
      "outputs": []
    },
    {
      "cell_type": "code",
      "source": [
        "params = {'min_df': [1, 0.1, 0.01, 0.001, 0.0001, 0.00001], 'max_df': [1, 0.1, 0.01, 0.001, 0.0001, 0.00001]}\n",
        "comparisons, comparison_params = hyperparams_selection(df, params)"
      ],
      "metadata": {
        "colab": {
          "base_uri": "https://localhost:8080/"
        },
        "id": "fFydSxl4kJms",
        "outputId": "205f1523-df9a-473a-95bd-678e91c44605"
      },
      "execution_count": 33,
      "outputs": [
        {
          "output_type": "stream",
          "name": "stderr",
          "text": [
            "100%|██████████| 8/8 [00:22<00:00,  2.83s/it]\n",
            " 38%|███▊      | 3/8 [00:03<00:05,  1.20s/it]\n",
            "100%|██████████| 8/8 [00:08<00:00,  1.10s/it]\n",
            "100%|██████████| 8/8 [00:10<00:00,  1.26s/it]\n",
            "100%|██████████| 8/8 [00:22<00:00,  2.82s/it]\n",
            "100%|██████████| 8/8 [00:22<00:00,  2.87s/it]\n",
            "100%|██████████| 8/8 [00:12<00:00,  1.52s/it]\n",
            "100%|██████████| 8/8 [00:21<00:00,  2.75s/it]\n",
            "100%|██████████| 8/8 [00:19<00:00,  2.48s/it]\n",
            "100%|██████████| 8/8 [00:17<00:00,  2.15s/it]\n",
            "  0%|          | 0/8 [00:00<?, ?it/s]\n",
            "  0%|          | 0/8 [00:00<?, ?it/s]\n"
          ]
        }
      ]
    },
    {
      "cell_type": "code",
      "source": [
        "means = [np.mean([values for values in comparison.values() for value in values]) for comparison in comparisons]"
      ],
      "metadata": {
        "id": "n8Zp1mnVrG3S"
      },
      "execution_count": 34,
      "outputs": []
    },
    {
      "cell_type": "code",
      "source": [
        "np.argmax(means[:len(means) // len(params)]), np.argmax(means[len(means) // len(params):])"
      ],
      "metadata": {
        "colab": {
          "base_uri": "https://localhost:8080/"
        },
        "id": "uqczA07dr3NL",
        "outputId": "ebe6e60b-fc9d-45f4-bb84-2de47f3c1ca1"
      },
      "execution_count": 35,
      "outputs": [
        {
          "output_type": "execute_result",
          "data": {
            "text/plain": [
              "(3, 1)"
            ]
          },
          "metadata": {},
          "execution_count": 35
        }
      ]
    },
    {
      "cell_type": "code",
      "source": [
        "def condition(w):\n",
        "    condition_passed = abs(w)>0.9\n",
        "    return condition_passed"
      ],
      "metadata": {
        "id": "dGoBfs7lJM14"
      },
      "execution_count": 36,
      "outputs": []
    },
    {
      "cell_type": "code",
      "source": [
        "for language in df['glottocode'].unique():\n",
        "  language_df = df[df['glottocode'] == language]\n",
        "\n",
        "  vectorizer = CountVectorizer(token_pattern=r'\\'?\\w+', ngram_range=(2, 4), min_df=0.001, max_df=0.1)\n",
        "\n",
        "  X = language_df['ipa']\n",
        "  y = language_df[['bor']]\n",
        "\n",
        "  X_train, X_test, y_train, y_test = train_test_split(X, y, test_size=0.2, random_state=42)\n",
        "\n",
        "  X_train_transformed = vectorizer.fit_transform(X_train)\n",
        "\n",
        "  clf = LogisticRegression().fit(X_train_transformed, y_train)\n",
        "\n",
        "  feat_name2weight = dict(zip(vectorizer.get_feature_names(), clf.coef_[0]))\n",
        "\n",
        "  important_features = {fname: weight for fname, weight in feat_name2weight.items() if weight>0 and condition(weight)}\n",
        "\n",
        "  ngram_features = X_train.str.replace('-', ' ').map(lambda x: (sum(feature in x for feature in important_features.keys()) * 10 - len(x) * 4) / len(x)).values[:, None]\n",
        "\n",
        "  X_train_transformed = hstack((X_train_transformed, ngram_features))\n",
        "\n",
        "  clf = LogisticRegression(random_state=0).fit(X_train_transformed, y_train)\n",
        "\n",
        "  X_test_transformed = vectorizer.transform(X_test)\n",
        "\n",
        "  ngram_features = X_test.str.replace('-', ' ').map(lambda x: (sum(feature in x for feature in important_features.keys()) * 10 - len(x) * 4) / len(x)).values[:, None]\n",
        "\n",
        "  X_test_transformed = hstack((X_test_transformed, ngram_features))\n",
        "\n",
        "  preds = clf.predict(X_test_transformed)\n",
        "\n",
        "  report = report.append(pd.DataFrame({'language': [language], 'macro f1': [f1_score(y_test, preds, average='macro')], 'model': ['countV logit']}))\n",
        "\n",
        "  print(language)\n",
        "  print(classification_report(y_test, preds, zero_division=0, ))"
      ],
      "metadata": {
        "colab": {
          "base_uri": "https://localhost:8080/"
        },
        "id": "6Td9-ixPsfXP",
        "outputId": "7c4cc4e1-bbf2-4cb0-e387-b7b5f398e7d4"
      },
      "execution_count": 37,
      "outputs": [
        {
          "output_type": "stream",
          "name": "stdout",
          "text": [
            "akhv1239\n",
            "              precision    recall  f1-score   support\n",
            "\n",
            "         0.0       0.93      0.97      0.95      1391\n",
            "         1.0       0.64      0.46      0.54       177\n",
            "\n",
            "    accuracy                           0.91      1568\n",
            "   macro avg       0.79      0.72      0.74      1568\n",
            "weighted avg       0.90      0.91      0.90      1568\n",
            "\n",
            "andi1255\n",
            "              precision    recall  f1-score   support\n",
            "\n",
            "         0.0       0.93      0.96      0.94      1035\n",
            "         1.0       0.57      0.42      0.48       133\n",
            "\n",
            "    accuracy                           0.90      1168\n",
            "   macro avg       0.75      0.69      0.71      1168\n",
            "weighted avg       0.89      0.90      0.89      1168\n",
            "\n",
            "bagv1239\n",
            "              precision    recall  f1-score   support\n",
            "\n",
            "         0.0       0.90      0.96      0.93      1258\n",
            "         1.0       0.71      0.46      0.56       257\n",
            "\n",
            "    accuracy                           0.88      1515\n",
            "   macro avg       0.80      0.71      0.74      1515\n",
            "weighted avg       0.87      0.88      0.87      1515\n",
            "\n",
            "botl1242\n",
            "              precision    recall  f1-score   support\n",
            "\n",
            "         0.0       0.92      0.95      0.94      1878\n",
            "         1.0       0.80      0.71      0.75       498\n",
            "\n",
            "    accuracy                           0.90      2376\n",
            "   macro avg       0.86      0.83      0.85      2376\n",
            "weighted avg       0.90      0.90      0.90      2376\n",
            "\n",
            "cham1309\n",
            "              precision    recall  f1-score   support\n",
            "\n",
            "         0.0       0.96      0.99      0.97      1190\n",
            "         1.0       0.65      0.32      0.43        81\n",
            "\n",
            "    accuracy                           0.95      1271\n",
            "   macro avg       0.80      0.65      0.70      1271\n",
            "weighted avg       0.94      0.95      0.94      1271\n",
            "\n",
            "ghod1238\n",
            "              precision    recall  f1-score   support\n",
            "\n",
            "         0.0       0.92      0.95      0.94       726\n",
            "         1.0       0.71      0.59      0.65       140\n",
            "\n",
            "    accuracy                           0.89       866\n",
            "   macro avg       0.82      0.77      0.79       866\n",
            "weighted avg       0.89      0.89      0.89       866\n",
            "\n",
            "kara1474\n",
            "              precision    recall  f1-score   support\n",
            "\n",
            "         0.0       0.95      0.98      0.96       822\n",
            "         1.0       0.58      0.32      0.42        68\n",
            "\n",
            "    accuracy                           0.93       890\n",
            "   macro avg       0.76      0.65      0.69       890\n",
            "weighted avg       0.92      0.93      0.92       890\n",
            "\n",
            "tind1238\n",
            "              precision    recall  f1-score   support\n",
            "\n",
            "         0.0       0.95      0.98      0.96      1177\n",
            "         1.0       0.51      0.33      0.40        85\n",
            "\n",
            "    accuracy                           0.93      1262\n",
            "   macro avg       0.73      0.65      0.68      1262\n",
            "weighted avg       0.92      0.93      0.93      1262\n",
            "\n"
          ]
        }
      ]
    },
    {
      "cell_type": "code",
      "source": [
        "director = PreprocessingDirector()\n",
        "director.builder = SeriePreprocessingBuilder()\n",
        "perps_df_ipa = make_df(df, ['EQUAL_1', 'EQUAL_0'], 'ipa', director)"
      ],
      "metadata": {
        "colab": {
          "base_uri": "https://localhost:8080/"
        },
        "id": "4S-RvDpCuaEa",
        "outputId": "0ddff4df-a212-4ff4-c9ce-d5501a9741b5"
      },
      "execution_count": 38,
      "outputs": [
        {
          "output_type": "stream",
          "name": "stdout",
          "text": [
            "akhv1239\n",
            "andi1255\n",
            "bagv1239\n",
            "botl1242\n",
            "cham1309\n",
            "ghod1238\n",
            "kara1474\n",
            "tind1238\n",
            "akhv1239\n",
            "andi1255\n",
            "bagv1239\n",
            "botl1242\n",
            "cham1309\n",
            "ghod1238\n",
            "kara1474\n",
            "tind1238\n",
            "akhv1239\n",
            "andi1255\n",
            "bagv1239\n",
            "botl1242\n",
            "cham1309\n",
            "ghod1238\n",
            "kara1474\n",
            "tind1238\n"
          ]
        }
      ]
    },
    {
      "cell_type": "code",
      "source": [
        "columns = [column for column in perps_df_ipa.columns if 'gram' in column]\n",
        "\n",
        "for column in columns:\n",
        "  perps_df_ipa[f'{column}_log'] = np.log(perps_df_ipa[column])"
      ],
      "metadata": {
        "id": "I2-w4tfevFws"
      },
      "execution_count": 39,
      "outputs": []
    },
    {
      "cell_type": "code",
      "source": [
        "fig, axes = plt.subplots(1, len(columns), figsize=(30, 10))\n",
        "for i, column in enumerate(columns):\n",
        "  sns.violinplot(x=\"glottocode\", y=f\"{column}_log\", hue=\"bor\",\n",
        "                      data=perps_df_ipa, palette=\"muted\", split=True, ax=axes[i]);\n",
        "\n",
        "sns.despine(offset=10, trim=True)"
      ],
      "metadata": {
        "colab": {
          "base_uri": "https://localhost:8080/",
          "height": 493
        },
        "id": "r3E8HZESvE92",
        "outputId": "b503f39f-98f3-44f5-85fb-6eaefc22b4eb"
      },
      "execution_count": 40,
      "outputs": [
        {
          "output_type": "display_data",
          "data": {
            "text/plain": [
              "<Figure size 2160x720 with 3 Axes>"
            ],
            "image/png": "[encoded data removed]"
          },
          "metadata": {
            "needs_background": "light"
          }
        }
      ]
    },
    {
      "cell_type": "code",
      "source": [
        "df['ipa'] = df['ipa'].str.replace(' ', '#')"
      ],
      "metadata": {
        "id": "H2eHHh_q_9Ka"
      },
      "execution_count": 41,
      "outputs": []
    },
    {
      "cell_type": "code",
      "source": [
        "means = compare_models(\n",
        "    df, \n",
        "    [LogisticRegression(random_state=0), ] * 5,\n",
        "    [CountVectorizer(token_pattern=r'\\'?\\w+', ngram_range=(2, 4), min_df=0.001, max_df=0.1), ] * 5,\n",
        "    [{'increase_bor_rate': 1, 'decrease_bor_rate': 1, 'n': 3},\n",
        "     {'increase_bor_rate': 3, 'decrease_bor_rate': 5, 'n': 3},\n",
        "     {'increase_bor_rate': 5, 'decrease_bor_rate': 10, 'n': 3},\n",
        "     {'increase_bor_rate': 5, 'decrease_bor_rate': 3, 'n': 3},\n",
        "     {'increase_bor_rate': 10, 'decrease_bor_rate': 5, 'n': 3}]\n",
        ")"
      ],
      "metadata": {
        "colab": {
          "base_uri": "https://localhost:8080/"
        },
        "id": "7Gg3Dd1dPSH1",
        "outputId": "4b62d70d-b2ab-48c7-fc76-e767e920bb56"
      },
      "execution_count": 42,
      "outputs": [
        {
          "output_type": "stream",
          "name": "stderr",
          "text": [
            "100%|██████████| 8/8 [01:58<00:00, 14.84s/it]\n"
          ]
        }
      ]
    },
    {
      "cell_type": "code",
      "source": [
        "np.argmax(np.mean([m for m in means.values()], 1))"
      ],
      "metadata": {
        "colab": {
          "base_uri": "https://localhost:8080/"
        },
        "id": "coAJYS0tRiOA",
        "outputId": "a738aa05-3b29-449e-9eb0-cf2eecfdc67b"
      },
      "execution_count": 43,
      "outputs": [
        {
          "output_type": "execute_result",
          "data": {
            "text/plain": [
              "3"
            ]
          },
          "metadata": {},
          "execution_count": 43
        }
      ]
    },
    {
      "cell_type": "code",
      "source": [
        "lm_params = {'increase_bor_rate': 5, 'decrease_bor_rate': 3, 'n': 3}"
      ],
      "metadata": {
        "id": "MWs4r5wvTG_0"
      },
      "execution_count": 44,
      "outputs": []
    },
    {
      "cell_type": "code",
      "source": [
        "from sklearn.model_selection import KFold, StratifiedKFold\n",
        "\n",
        "cols = ['3_gram']\n",
        "\n",
        "for language in df['glottocode'].unique():\n",
        "  language_df = df[df['glottocode'] == language]\n",
        "\n",
        "  vectorizer = CountVectorizer(token_pattern=r'\\'?\\w+', \n",
        "                            ngram_range=(2, 4), min_df=0.001, max_df=0.1)\n",
        "\n",
        "  X_train, X_test, y_train, y_test = train_test_split(language_df, language_df[['bor']], test_size=0.2, random_state=42)\n",
        "\n",
        "  X = vectorizer.fit_transform(X_train['ipa'])\n",
        "\n",
        "  X = hstack((X, np.asarray(fit_language_model(X_train, **lm_params)).reshape(-1, 1)))\n",
        "\n",
        "  clf = LogisticRegression(random_state=0).fit(X, y_train)\n",
        "\n",
        "  X_test_transformed = vectorizer.transform(X_test['ipa'])\n",
        "\n",
        "  X_test_transformed = hstack((X_test_transformed, np.asarray(fit_language_model(X_test, **lm_params)).reshape(-1, 1)))\n",
        "\n",
        "  preds = clf.predict(X_test_transformed)\n",
        "\n",
        "  report = report.append(pd.DataFrame({'language': [language], 'macro f1': [f1_score(y_test, preds, average='macro')], 'model': ['count logit lm']}))\n",
        "\n",
        "  print(language)\n",
        "  print(classification_report(y_test, preds, zero_division=0))"
      ],
      "metadata": {
        "colab": {
          "base_uri": "https://localhost:8080/"
        },
        "id": "9EaBChKhzKo7",
        "outputId": "9603f959-ccf1-4a42-e4fd-63ffa4030324"
      },
      "execution_count": 45,
      "outputs": [
        {
          "output_type": "stream",
          "name": "stdout",
          "text": [
            "akhv1239\n",
            "              precision    recall  f1-score   support\n",
            "\n",
            "         0.0       0.96      0.92      0.94      1391\n",
            "         1.0       0.55      0.71      0.62       177\n",
            "\n",
            "    accuracy                           0.90      1568\n",
            "   macro avg       0.75      0.82      0.78      1568\n",
            "weighted avg       0.91      0.90      0.91      1568\n",
            "\n",
            "andi1255\n",
            "              precision    recall  f1-score   support\n",
            "\n",
            "         0.0       0.95      0.93      0.94      1035\n",
            "         1.0       0.53      0.62      0.57       133\n",
            "\n",
            "    accuracy                           0.89      1168\n",
            "   macro avg       0.74      0.78      0.76      1168\n",
            "weighted avg       0.90      0.89      0.90      1168\n",
            "\n",
            "bagv1239\n",
            "              precision    recall  f1-score   support\n",
            "\n",
            "         0.0       0.93      0.91      0.92      1258\n",
            "         1.0       0.61      0.68      0.65       257\n",
            "\n",
            "    accuracy                           0.87      1515\n",
            "   macro avg       0.77      0.80      0.78      1515\n",
            "weighted avg       0.88      0.87      0.88      1515\n",
            "\n",
            "botl1242\n",
            "              precision    recall  f1-score   support\n",
            "\n",
            "         0.0       0.97      0.84      0.90      1878\n",
            "         1.0       0.61      0.92      0.73       498\n",
            "\n",
            "    accuracy                           0.86      2376\n",
            "   macro avg       0.79      0.88      0.82      2376\n",
            "weighted avg       0.90      0.86      0.87      2376\n",
            "\n",
            "cham1309\n",
            "              precision    recall  f1-score   support\n",
            "\n",
            "         0.0       0.97      0.97      0.97      1190\n",
            "         1.0       0.59      0.56      0.57        81\n",
            "\n",
            "    accuracy                           0.95      1271\n",
            "   macro avg       0.78      0.76      0.77      1271\n",
            "weighted avg       0.95      0.95      0.95      1271\n",
            "\n",
            "ghod1238\n",
            "              precision    recall  f1-score   support\n",
            "\n",
            "         0.0       0.97      0.88      0.92       726\n",
            "         1.0       0.58      0.85      0.69       140\n",
            "\n",
            "    accuracy                           0.88       866\n",
            "   macro avg       0.78      0.87      0.81       866\n",
            "weighted avg       0.91      0.88      0.89       866\n",
            "\n",
            "kara1474\n",
            "              precision    recall  f1-score   support\n",
            "\n",
            "         0.0       0.96      0.95      0.95       822\n",
            "         1.0       0.44      0.51      0.47        68\n",
            "\n",
            "    accuracy                           0.91       890\n",
            "   macro avg       0.70      0.73      0.71       890\n",
            "weighted avg       0.92      0.91      0.92       890\n",
            "\n",
            "tind1238\n",
            "              precision    recall  f1-score   support\n",
            "\n",
            "         0.0       0.97      0.95      0.96      1177\n",
            "         1.0       0.44      0.56      0.49        85\n",
            "\n",
            "    accuracy                           0.92      1262\n",
            "   macro avg       0.70      0.76      0.72      1262\n",
            "weighted avg       0.93      0.92      0.93      1262\n",
            "\n"
          ]
        }
      ]
    },
    {
      "cell_type": "code",
      "source": [
        "from sklearn.model_selection import KFold, StratifiedKFold\n",
        "\n",
        "cols = ['3_gram']\n",
        "\n",
        "for language in df['glottocode'].unique():\n",
        "  language_df = df[df['glottocode'] == language]\n",
        "\n",
        "  vectorizer = CountVectorizer(token_pattern=r'\\'?\\w+', \n",
        "                            ngram_range=(2, 4), min_df=0.001, max_df=0.1)\n",
        "\n",
        "  X_train, X_test, y_train, y_test = train_test_split(language_df, language_df[['bor']], test_size=0.2, random_state=42)\n",
        "\n",
        "  X = vectorizer.fit_transform(X_train['ipa'])\n",
        "\n",
        "  clf = LogisticRegression().fit(X, y_train)\n",
        "\n",
        "  feat_name2weight = dict(zip(vectorizer.get_feature_names(), clf.coef_[0]))\n",
        "\n",
        "  important_features = {fname: weight for fname, weight in feat_name2weight.items() if weight>0 and condition(weight)}\n",
        "\n",
        "  ngram_features = X_train['ipa'].str.replace('-', ' ').map(lambda x: (sum(feature in x for feature in important_features.keys()) * 10 - len(x) * 4) / len(x)).values[:, None]\n",
        "\n",
        "  X = hstack((X, ngram_features))\n",
        "\n",
        "  X = hstack((X, np.asarray(fit_language_model(X_train, **lm_params)).reshape(-1, 1)))\n",
        "\n",
        "  clf = LogisticRegression(random_state=0).fit(X, y_train)\n",
        "\n",
        "  X_test_transformed = vectorizer.transform(X_test['ipa'])\n",
        "\n",
        "  ngram_features = X_test['ipa'].str.replace('-', ' ').map(lambda x: (sum(feature in x for feature in important_features.keys()) * 10 - len(x) * 4) / len(x)).values[:, None]\n",
        "\n",
        "  X_test_transformed = hstack((X_test_transformed, ngram_features))\n",
        "\n",
        "  X_test_transformed = hstack((X_test_transformed, np.asarray(fit_language_model(X_test, **lm_params)).reshape(-1, 1)))\n",
        "\n",
        "  preds = clf.predict(X_test_transformed)\n",
        "\n",
        "  report = report.append(pd.DataFrame({'language': [language], 'macro f1': [f1_score(y_test, preds, average='macro')], 'model': ['count logit lm feat']}))\n",
        "\n",
        "  print(language)\n",
        "  print(classification_report(y_test, preds, zero_division=0))"
      ],
      "metadata": {
        "colab": {
          "base_uri": "https://localhost:8080/"
        },
        "id": "WZAbsSzsIEXH",
        "outputId": "8b742526-fea2-41ca-a9d1-b7c62b0992b2"
      },
      "execution_count": 46,
      "outputs": [
        {
          "output_type": "stream",
          "name": "stdout",
          "text": [
            "akhv1239\n",
            "              precision    recall  f1-score   support\n",
            "\n",
            "         0.0       0.97      0.92      0.94      1391\n",
            "         1.0       0.54      0.74      0.63       177\n",
            "\n",
            "    accuracy                           0.90      1568\n",
            "   macro avg       0.75      0.83      0.78      1568\n",
            "weighted avg       0.92      0.90      0.91      1568\n",
            "\n",
            "andi1255\n",
            "              precision    recall  f1-score   support\n",
            "\n",
            "         0.0       0.95      0.92      0.93      1035\n",
            "         1.0       0.49      0.60      0.54       133\n",
            "\n",
            "    accuracy                           0.88      1168\n",
            "   macro avg       0.72      0.76      0.74      1168\n",
            "weighted avg       0.90      0.88      0.89      1168\n",
            "\n",
            "bagv1239\n",
            "              precision    recall  f1-score   support\n",
            "\n",
            "         0.0       0.94      0.90      0.92      1258\n",
            "         1.0       0.61      0.74      0.67       257\n",
            "\n",
            "    accuracy                           0.88      1515\n",
            "   macro avg       0.78      0.82      0.80      1515\n",
            "weighted avg       0.89      0.88      0.88      1515\n",
            "\n",
            "botl1242\n",
            "              precision    recall  f1-score   support\n",
            "\n",
            "         0.0       0.97      0.86      0.91      1878\n",
            "         1.0       0.63      0.90      0.74       498\n",
            "\n",
            "    accuracy                           0.87      2376\n",
            "   macro avg       0.80      0.88      0.83      2376\n",
            "weighted avg       0.90      0.87      0.87      2376\n",
            "\n",
            "cham1309\n",
            "              precision    recall  f1-score   support\n",
            "\n",
            "         0.0       0.97      0.96      0.97      1190\n",
            "         1.0       0.55      0.63      0.59        81\n",
            "\n",
            "    accuracy                           0.94      1271\n",
            "   macro avg       0.76      0.80      0.78      1271\n",
            "weighted avg       0.95      0.94      0.95      1271\n",
            "\n",
            "ghod1238\n",
            "              precision    recall  f1-score   support\n",
            "\n",
            "         0.0       0.97      0.89      0.93       726\n",
            "         1.0       0.60      0.84      0.70       140\n",
            "\n",
            "    accuracy                           0.88       866\n",
            "   macro avg       0.78      0.86      0.81       866\n",
            "weighted avg       0.91      0.88      0.89       866\n",
            "\n",
            "kara1474\n",
            "              precision    recall  f1-score   support\n",
            "\n",
            "         0.0       0.96      0.95      0.95       822\n",
            "         1.0       0.44      0.51      0.48        68\n",
            "\n",
            "    accuracy                           0.91       890\n",
            "   macro avg       0.70      0.73      0.71       890\n",
            "weighted avg       0.92      0.91      0.92       890\n",
            "\n",
            "tind1238\n",
            "              precision    recall  f1-score   support\n",
            "\n",
            "         0.0       0.97      0.94      0.96      1177\n",
            "         1.0       0.43      0.59      0.50        85\n",
            "\n",
            "    accuracy                           0.92      1262\n",
            "   macro avg       0.70      0.77      0.73      1262\n",
            "weighted avg       0.93      0.92      0.93      1262\n",
            "\n"
          ]
        }
      ]
    },
    {
      "cell_type": "code",
      "source": [
        "pd.pivot_table(report, values='macro f1', index='model', columns=['language']).reindex(['baseline', 'countV logit', 'count logit lm', 'count logit lm feat'])"
      ],
      "metadata": {
        "colab": {
          "base_uri": "https://localhost:8080/",
          "height": 206
        },
        "id": "k2QRjSmCZ1LP",
        "outputId": "2a8cbe30-0506-4626-b6c4-222e4a0549f5"
      },
      "execution_count": 47,
      "outputs": [
        {
          "output_type": "execute_result",
          "data": {
            "text/plain": [
              "language             akhv1239  andi1255  bagv1239  botl1242  cham1309  \\\n",
              "model                                                                   \n",
              "baseline             0.595510  0.584958  0.629327  0.781564  0.495935   \n",
              "countV logit         0.743950  0.712862  0.744107  0.845130  0.700626   \n",
              "count logit lm       0.780231  0.757153  0.784913  0.817889  0.772578   \n",
              "count logit lm feat  0.783757  0.738114  0.797135  0.825383  0.777901   \n",
              "\n",
              "language             ghod1238  kara1474  tind1238  \n",
              "model                                              \n",
              "baseline             0.647212  0.494914  0.539122  \n",
              "countV logit         0.792110  0.689029  0.682383  \n",
              "count logit lm       0.807746  0.712589  0.724900  \n",
              "count logit lm feat  0.814534  0.714519  0.725561  "
            ],
            "text/html": [
              "\n",
              "  <div id=\"df-04130d06-d3c6-4624-b160-64525024d84b\">\n",
              "    <div class=\"colab-df-container\">\n",
              "      <div>\n",
              "<style scoped>\n",
              "    .dataframe tbody tr th:only-of-type {\n",
              "        vertical-align: middle;\n",
              "    }\n",
              "\n",
              "    .dataframe tbody tr th {\n",
              "        vertical-align: top;\n",
              "    }\n",
              "\n",
              "    .dataframe thead th {\n",
              "        text-align: right;\n",
              "    }\n",
              "</style>\n",
              "<table border=\"1\" class=\"dataframe\">\n",
              "  <thead>\n",
              "    <tr style=\"text-align: right;\">\n",
              "      <th>language</th>\n",
              "      <th>akhv1239</th>\n",
              "      <th>andi1255</th>\n",
              "      <th>bagv1239</th>\n",
              "      <th>botl1242</th>\n",
              "      <th>cham1309</th>\n",
              "      <th>ghod1238</th>\n",
              "      <th>kara1474</th>\n",
              "      <th>tind1238</th>\n",
              "    </tr>\n",
              "    <tr>\n",
              "      <th>model</th>\n",
              "      <th></th>\n",
              "      <th></th>\n",
              "      <th></th>\n",
              "      <th></th>\n",
              "      <th></th>\n",
              "      <th></th>\n",
              "      <th></th>\n",
              "      <th></th>\n",
              "    </tr>\n",
              "  </thead>\n",
              "  <tbody>\n",
              "    <tr>\n",
              "      <th>baseline</th>\n",
              "      <td>0.595510</td>\n",
              "      <td>0.584958</td>\n",
              "      <td>0.629327</td>\n",
              "      <td>0.781564</td>\n",
              "      <td>0.495935</td>\n",
              "      <td>0.647212</td>\n",
              "      <td>0.494914</td>\n",
              "      <td>0.539122</td>\n",
              "    </tr>\n",
              "    <tr>\n",
              "      <th>countV logit</th>\n",
              "      <td>0.743950</td>\n",
              "      <td>0.712862</td>\n",
              "      <td>0.744107</td>\n",
              "      <td>0.845130</td>\n",
              "      <td>0.700626</td>\n",
              "      <td>0.792110</td>\n",
              "      <td>0.689029</td>\n",
              "      <td>0.682383</td>\n",
              "    </tr>\n",
              "    <tr>\n",
              "      <th>count logit lm</th>\n",
              "      <td>0.780231</td>\n",
              "      <td>0.757153</td>\n",
              "      <td>0.784913</td>\n",
              "      <td>0.817889</td>\n",
              "      <td>0.772578</td>\n",
              "      <td>0.807746</td>\n",
              "      <td>0.712589</td>\n",
              "      <td>0.724900</td>\n",
              "    </tr>\n",
              "    <tr>\n",
              "      <th>count logit lm feat</th>\n",
              "      <td>0.783757</td>\n",
              "      <td>0.738114</td>\n",
              "      <td>0.797135</td>\n",
              "      <td>0.825383</td>\n",
              "      <td>0.777901</td>\n",
              "      <td>0.814534</td>\n",
              "      <td>0.714519</td>\n",
              "      <td>0.725561</td>\n",
              "    </tr>\n",
              "  </tbody>\n",
              "</table>\n",
              "</div>\n",
              "      <button class=\"colab-df-convert\" onclick=\"convertToInteractive('df-04130d06-d3c6-4624-b160-64525024d84b')\"\n",
              "              title=\"Convert this dataframe to an interactive table.\"\n",
              "              style=\"display:none;\">\n",
              "        \n",
              "  <svg xmlns=\"http://www.w3.org/2000/svg\" height=\"24px\"viewBox=\"0 0 24 24\"\n",
              "       width=\"24px\">\n",
              "    <path d=\"M0 0h24v24H0V0z\" fill=\"none\"/>\n",
              "    <path d=\"M18.56 5.44l.94 2.06.94-2.06 2.06-.94-2.06-.94-.94-2.06-.94 2.06-2.06.94zm-11 1L8.5 8.5l.94-2.06 2.06-.94-2.06-.94L8.5 2.5l-.94 2.06-2.06.94zm10 10l.94 2.06.94-2.06 2.06-.94-2.06-.94-.94-2.06-.94 2.06-2.06.94z\"/><path d=\"M17.41 7.96l-1.37-1.37c-.4-.4-.92-.59-1.43-.59-.52 0-1.04.2-1.43.59L10.3 9.45l-7.72 7.72c-.78.78-.78 2.05 0 2.83L4 21.41c.39.39.9.59 1.41.59.51 0 1.02-.2 1.41-.59l7.78-7.78 2.81-2.81c.8-.78.8-2.07 0-2.86zM5.41 20L4 18.59l7.72-7.72 1.47 1.35L5.41 20z\"/>\n",
              "  </svg>\n",
              "      </button>\n",
              "      \n",
              "  <style>\n",
              "    .colab-df-container {\n",
              "      display:flex;\n",
              "      flex-wrap:wrap;\n",
              "      gap: 12px;\n",
              "    }\n",
              "\n",
              "    .colab-df-convert {\n",
              "      background-color: #E8F0FE;\n",
              "      border: none;\n",
              "      border-radius: 50%;\n",
              "      cursor: pointer;\n",
              "      display: none;\n",
              "      fill: #1967D2;\n",
              "      height: 32px;\n",
              "      padding: 0 0 0 0;\n",
              "      width: 32px;\n",
              "    }\n",
              "\n",
              "    .colab-df-convert:hover {\n",
              "      background-color: #E2EBFA;\n",
              "      box-shadow: 0px 1px 2px rgba(60, 64, 67, 0.3), 0px 1px 3px 1px rgba(60, 64, 67, 0.15);\n",
              "      fill: #174EA6;\n",
              "    }\n",
              "\n",
              "    [theme=dark] .colab-df-convert {\n",
              "      background-color: #3B4455;\n",
              "      fill: #D2E3FC;\n",
              "    }\n",
              "\n",
              "    [theme=dark] .colab-df-convert:hover {\n",
              "      background-color: #434B5C;\n",
              "      box-shadow: 0px 1px 3px 1px rgba(0, 0, 0, 0.15);\n",
              "      filter: drop-shadow(0px 1px 2px rgba(0, 0, 0, 0.3));\n",
              "      fill: #FFFFFF;\n",
              "    }\n",
              "  </style>\n",
              "\n",
              "      <script>\n",
              "        const buttonEl =\n",
              "          document.querySelector('#df-04130d06-d3c6-4624-b160-64525024d84b button.colab-df-convert');\n",
              "        buttonEl.style.display =\n",
              "          google.colab.kernel.accessAllowed ? 'block' : 'none';\n",
              "\n",
              "        async function convertToInteractive(key) {\n",
              "          const element = document.querySelector('#df-04130d06-d3c6-4624-b160-64525024d84b');\n",
              "          const dataTable =\n",
              "            await google.colab.kernel.invokeFunction('convertToInteractive',\n",
              "                                                     [key], {});\n",
              "          if (!dataTable) return;\n",
              "\n",
              "          const docLinkHtml = 'Like what you see? Visit the ' +\n",
              "            '<a target=\"_blank\" href=https://colab.research.google.com/notebooks/data_table.ipynb>data table notebook</a>'\n",
              "            + ' to learn more about interactive tables.';\n",
              "          element.innerHTML = '';\n",
              "          dataTable['output_type'] = 'display_data';\n",
              "          await google.colab.output.renderOutput(dataTable, element);\n",
              "          const docLink = document.createElement('div');\n",
              "          docLink.innerHTML = docLinkHtml;\n",
              "          element.appendChild(docLink);\n",
              "        }\n",
              "      </script>\n",
              "    </div>\n",
              "  </div>\n",
              "  "
            ]
          },
          "metadata": {},
          "execution_count": 47
        }
      ]
    },
    {
      "cell_type": "code",
      "source": [
        "from sklearn.model_selection import KFold, StratifiedKFold\n",
        "\n",
        "cols = ['3_gram']\n",
        "\n",
        "for language in df['glottocode'].unique():\n",
        "  language_df = df[df['glottocode'] == language]\n",
        "  \n",
        "  vectorizer = CountVectorizer(analyzer='char', \n",
        "                            ngram_range=(2, 4), max_df=1.0, min_df=0.001)\n",
        "\n",
        "  X_train, X_test, y_train, y_test = train_test_split(language_df, language_df[['bor']], test_size=0.2, random_state=42)\n",
        "\n",
        "  X = vectorizer.fit_transform(X_train['lemma'])\n",
        "  y = language_df['bor']\n",
        "\n",
        "  clf = LogisticRegression(random_state=0).fit(X, y_train)\n",
        "\n",
        "  feat_name2weight = dict(zip(vectorizer.get_feature_names(), clf.coef_[0]))\n",
        "\n",
        "  important_features = {fname: weight for fname, weight in feat_name2weight.items() if weight<0 and condition(weight)}\n",
        "\n",
        "  ngram_features = X_train['lemma'].str.replace('-', ' ').map(lambda x: (sum(feature in x for feature in important_features.keys()) * 10 - len(x) * 4) / len(x)).values[:, None]\n",
        "\n",
        "  X = hstack((X, ngram_features))\n",
        "\n",
        "  n = 3\n",
        "  non_bor_words = X_train[(X_train['bor'] == 0)]['lemma'].str.lower().str.split('')\n",
        "  bor_words = X_train[(X_train['bor'] == 1)]['lemma'].str.lower().str.split('')\n",
        "  director = PreprocessingDirector()\n",
        "  director.builder = SeriePreprocessingBuilder()\n",
        "  builded_words = director.build(non_bor_words, n).builder.result\n",
        "  bor_words = director.build(bor_words, n).builder.result\n",
        "  model = NgramModelCreator(n, list(builded_words)).get_model\n",
        "  model.make_model()\n",
        "\n",
        "  all_words = X_train['lemma'].str.lower().str.split('')\n",
        "  all_words = director.build(all_words, n).builder.result\n",
        "  all_ngrams = [Ngrammer.make_ngram(word, n) for word in all_words]\n",
        "\n",
        "  is_bors = []\n",
        "\n",
        "  for word in all_ngrams:\n",
        "    bor_rate = 0\n",
        "    for ngram in word:\n",
        "      if model.get_ngrams[n - 1][ngram] <= 2:\n",
        "        bor_rate += lm_params['increase_bor_rate']\n",
        "      else:\n",
        "        bor_rate -= lm_params['decrease_bor_rate']\n",
        "    is_bors.append(bor_rate / len(word))\n",
        "\n",
        "  X = hstack((X, np.asarray(is_bors).reshape(-1, 1)))\n",
        "\n",
        "  clf = LogisticRegression(random_state=0).fit(X, y_train)\n",
        "\n",
        "  X_test_transformed = vectorizer.transform(X_test['lemma'])\n",
        "\n",
        "  ngram_features = X_test['lemma'].str.replace('-', ' ').map(lambda x: (sum(feature in x for feature in important_features.keys()) * 10 - len(x) * 4) / len(x)).values[:, None]\n",
        "\n",
        "  X_test_transformed = hstack((X_test_transformed, ngram_features))\n",
        "\n",
        "  n = 3\n",
        "  non_bor_words = X_test[(X_test['bor'] == 0)]['lemma'].str.lower().str.split('')\n",
        "  bor_words = X_test[(X_test['bor'] == 1)]['lemma'].str.lower().str.split('')\n",
        "  director = PreprocessingDirector()\n",
        "  director.builder = SeriePreprocessingBuilder()\n",
        "  builded_words = director.build(non_bor_words, n).builder.result\n",
        "  bor_words = director.build(bor_words, n).builder.result\n",
        "  model = NgramModelCreator(n, list(builded_words)).get_model\n",
        "  model.make_model()\n",
        "\n",
        "  all_words = X_test['lemma'].str.lower().str.split('')\n",
        "  all_words = director.build(all_words, n).builder.result\n",
        "  all_ngrams = [Ngrammer.make_ngram(word, n) for word in all_words]\n",
        "\n",
        "  is_bors = []\n",
        "\n",
        "  for word in all_ngrams:\n",
        "    bor_rate = 0\n",
        "    for ngram in word:\n",
        "      if model.get_ngrams[n - 1][ngram] <= 2:\n",
        "        bor_rate += lm_params['increase_bor_rate']\n",
        "      else:\n",
        "        bor_rate -= lm_params['decrease_bor_rate']\n",
        "    is_bors.append(bor_rate / len(word))\n",
        "\n",
        "  X_test_transformed = hstack((X_test_transformed, np.asarray(is_bors).reshape(-1, 1)))\n",
        "\n",
        "  preds = clf.predict(X_test_transformed)\n",
        "\n",
        "  report = report.append(pd.DataFrame({'language': [language], 'macro f1': [f1_score(y_test, preds, average='macro')], 'model': ['count logit lm feat lemma']}))\n",
        "\n",
        "  print(language)\n",
        "  print(classification_report(y_test, preds, zero_division=0))"
      ],
      "metadata": {
        "colab": {
          "base_uri": "https://localhost:8080/"
        },
        "id": "DeMjDa8WIAF0",
        "outputId": "05259fd9-c505-41b6-f3a0-5e8003cd776c"
      },
      "execution_count": 48,
      "outputs": [
        {
          "output_type": "stream",
          "name": "stdout",
          "text": [
            "akhv1239\n",
            "              precision    recall  f1-score   support\n",
            "\n",
            "         0.0       0.96      0.95      0.96      1391\n",
            "         1.0       0.66      0.71      0.68       177\n",
            "\n",
            "    accuracy                           0.93      1568\n",
            "   macro avg       0.81      0.83      0.82      1568\n",
            "weighted avg       0.93      0.93      0.93      1568\n",
            "\n",
            "andi1255\n",
            "              precision    recall  f1-score   support\n",
            "\n",
            "         0.0       0.95      0.93      0.94      1035\n",
            "         1.0       0.55      0.65      0.60       133\n",
            "\n",
            "    accuracy                           0.90      1168\n",
            "   macro avg       0.75      0.79      0.77      1168\n",
            "weighted avg       0.91      0.90      0.90      1168\n",
            "\n",
            "bagv1239\n",
            "              precision    recall  f1-score   support\n",
            "\n",
            "         0.0       0.96      0.93      0.94      1258\n",
            "         1.0       0.69      0.79      0.74       257\n",
            "\n",
            "    accuracy                           0.90      1515\n",
            "   macro avg       0.82      0.86      0.84      1515\n",
            "weighted avg       0.91      0.90      0.91      1515\n",
            "\n",
            "botl1242\n",
            "              precision    recall  f1-score   support\n",
            "\n",
            "         0.0       0.96      0.91      0.94      1878\n",
            "         1.0       0.72      0.87      0.79       498\n",
            "\n",
            "    accuracy                           0.90      2376\n",
            "   macro avg       0.84      0.89      0.86      2376\n",
            "weighted avg       0.91      0.90      0.91      2376\n",
            "\n",
            "cham1309\n",
            "              precision    recall  f1-score   support\n",
            "\n",
            "         0.0       0.97      0.97      0.97      1190\n",
            "         1.0       0.59      0.63      0.61        81\n",
            "\n",
            "    accuracy                           0.95      1271\n",
            "   macro avg       0.78      0.80      0.79      1271\n",
            "weighted avg       0.95      0.95      0.95      1271\n",
            "\n",
            "ghod1238\n",
            "              precision    recall  f1-score   support\n",
            "\n",
            "         0.0       0.97      0.91      0.94       726\n",
            "         1.0       0.65      0.86      0.74       140\n",
            "\n",
            "    accuracy                           0.90       866\n",
            "   macro avg       0.81      0.88      0.84       866\n",
            "weighted avg       0.92      0.90      0.91       866\n",
            "\n",
            "kara1474\n",
            "              precision    recall  f1-score   support\n",
            "\n",
            "         0.0       0.97      0.94      0.96       822\n",
            "         1.0       0.48      0.63      0.54        68\n",
            "\n",
            "    accuracy                           0.92       890\n",
            "   macro avg       0.72      0.79      0.75       890\n",
            "weighted avg       0.93      0.92      0.92       890\n",
            "\n",
            "tind1238\n",
            "              precision    recall  f1-score   support\n",
            "\n",
            "         0.0       0.97      0.95      0.96      1177\n",
            "         1.0       0.48      0.62      0.54        85\n",
            "\n",
            "    accuracy                           0.93      1262\n",
            "   macro avg       0.73      0.79      0.75      1262\n",
            "weighted avg       0.94      0.93      0.93      1262\n",
            "\n"
          ]
        }
      ]
    }
  ]
}